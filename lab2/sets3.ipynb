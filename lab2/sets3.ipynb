{
 "cells": [
  {
   "cell_type": "markdown",
   "metadata": {},
   "source": [
    "![alt text](image-26.png)"
   ]
  },
  {
   "cell_type": "code",
   "execution_count": 1,
   "metadata": {},
   "outputs": [
    {
     "name": "stdout",
     "output_type": "stream",
     "text": [
      "{'pineapple', 'papaya', 'mango', 'apple', 'banana', 'cherry'}\n"
     ]
    }
   ],
   "source": [
    "thisset = {\"apple\", \"banana\", \"cherry\"}\n",
    "tropical = {\"pineapple\", \"mango\", \"papaya\"}\n",
    "\n",
    "thisset.update(tropical)\n",
    "\n",
    "print(thisset)"
   ]
  },
  {
   "cell_type": "code",
   "execution_count": 2,
   "metadata": {},
   "outputs": [
    {
     "name": "stdout",
     "output_type": "stream",
     "text": [
      "{'kiwi', 'apple', 'banana', 'orange', 'cherry'}\n"
     ]
    }
   ],
   "source": [
    "thisset = {\"apple\", \"banana\", \"cherry\"}\n",
    "mylist = [\"kiwi\", \"orange\"]\n",
    "\n",
    "thisset.update(mylist)\n",
    "\n",
    "print(thisset)\n",
    "#The object in the update() method does not have to be a set, \n",
    "# it can be any iterable object (tuples, lists, dictionaries etc.)."
   ]
  }
 ],
 "metadata": {
  "kernelspec": {
   "display_name": "Python 3",
   "language": "python",
   "name": "python3"
  },
  "language_info": {
   "codemirror_mode": {
    "name": "ipython",
    "version": 3
   },
   "file_extension": ".py",
   "mimetype": "text/x-python",
   "name": "python",
   "nbconvert_exporter": "python",
   "pygments_lexer": "ipython3",
   "version": "3.12.2"
  }
 },
 "nbformat": 4,
 "nbformat_minor": 2
}
