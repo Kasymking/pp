{
 "cells": [
  {
   "cell_type": "code",
   "execution_count": null,
   "metadata": {},
   "outputs": [
    {
     "name": "stdout",
     "output_type": "stream",
     "text": [
      "hello\n"
     ]
    }
   ],
   "source": [
    "Scope\n",
    "\n",
    "'''\n",
    "nonlocal when it can be neither in global nor in the local\n",
    "and it can be placed in the function which is placed in the function\n",
    "for example, \n",
    "func():\n",
    "    msg = \"local\"\n",
    "    func():\n",
    "        nonlocal msg\n",
    "        msg = \"nonlocal\"\n",
    "        print(msg)\n",
    "    print(msg)\n",
    "in the results in all cases it shows the nonlocal version\n",
    "'''\n",
    "print(\"hello\")"
   ]
  },
  {
   "cell_type": "code",
   "execution_count": 10,
   "metadata": {},
   "outputs": [
    {
     "name": "stdout",
     "output_type": "stream",
     "text": [
      "10\n"
     ]
    }
   ],
   "source": [
    "count = 0\n",
    "def num():\n",
    "    global count\n",
    "    \n",
    "    count += 10\n",
    "num()\n",
    "print(count)"
   ]
  },
  {
   "cell_type": "code",
   "execution_count": 14,
   "metadata": {},
   "outputs": [
    {
     "name": "stdout",
     "output_type": "stream",
     "text": [
      "25\n"
     ]
    }
   ],
   "source": [
    "import mathmy\n",
    "x = 5\n",
    "print(mathmy.square(x))\n"
   ]
  },
  {
   "cell_type": "code",
   "execution_count": 20,
   "metadata": {},
   "outputs": [
    {
     "name": "stdout",
     "output_type": "stream",
     "text": [
      "7.0\n"
     ]
    }
   ],
   "source": [
    "from math import sqrt\n",
    "x = sqrt(49)\n",
    "print(sqrt(49))"
   ]
  },
  {
   "cell_type": "code",
   "execution_count": 21,
   "metadata": {},
   "outputs": [
    {
     "name": "stdout",
     "output_type": "stream",
     "text": [
      "720\n",
      "5 4\n"
     ]
    }
   ],
   "source": [
    "import math\n",
    "\n",
    "print(math.factorial(6))\n",
    "print(math.ceil(4.7) , math.floor(4.7))"
   ]
  },
  {
   "cell_type": "code",
   "execution_count": 22,
   "metadata": {},
   "outputs": [
    {
     "name": "stdout",
     "output_type": "stream",
     "text": [
      "5.0\n"
     ]
    }
   ],
   "source": [
    "import math\n",
    "\n",
    "x = sqrt((3*3) + (4*4))\n",
    "print(x)"
   ]
  },
  {
   "cell_type": "code",
   "execution_count": null,
   "metadata": {},
   "outputs": [
    {
     "name": "stdout",
     "output_type": "stream",
     "text": [
      "25\n"
     ]
    }
   ],
   "source": [
    "import json\n",
    "\n",
    "with open(\"data.json\", \"r\") as file:\n",
    "    data = json.load(file)\n",
    "\n",
    "print(data[\"age\"])\n",
    "\n"
   ]
  },
  {
   "cell_type": "code",
   "execution_count": 25,
   "metadata": {},
   "outputs": [
    {
     "name": "stdout",
     "output_type": "stream",
     "text": [
      "{\"name\": \"Alice\", \"age\": 25, \"country\": \"kz\"}\n",
      "Alice\n"
     ]
    }
   ],
   "source": [
    "import json\n",
    "\n",
    "dicts = {\n",
    "    \"name\": \"Alice\",\n",
    "    \"age\" : 25,\n",
    "    \"country\" : \"kz\"\n",
    "}\n",
    "\n",
    "js_string = json.dumps(dicts)\n",
    "\n",
    "print(js_string)\n",
    "\n",
    "py_string = json.loads(js_string)\n",
    "print(py_string[\"name\"])\n"
   ]
  },
  {
   "cell_type": "code",
   "execution_count": null,
   "metadata": {},
   "outputs": [],
   "source": [
    "from datetime import datetime,  \n",
    "\n",
    "curr_date = datetime.today()\n",
    "\n"
   ]
  },
  {
   "cell_type": "code",
   "execution_count": 34,
   "metadata": {},
   "outputs": [
    {
     "name": "stdout",
     "output_type": "stream",
     "text": [
      "[0, 1, 4, 9, 16]\n",
      "0 1 4 9 16 "
     ]
    }
   ],
   "source": [
    "#1 method \n",
    "a = int(input(\"Enter: \"))\n",
    "\n",
    "g = (x**2 for x in range(a))\n",
    "print(list(g))\n",
    "\n",
    "# 2 method\n",
    "def mygenerator(n):\n",
    "    for x in range(n):\n",
    "        yield x**2\n",
    "\n",
    "n = int(input(\"Enter: \"))\n",
    "g2 = mygenerator(n)\n",
    "for i in g2:\n",
    "    print(i, end=\" \")"
   ]
  },
  {
   "cell_type": "code",
   "execution_count": 41,
   "metadata": {},
   "outputs": [
    {
     "name": "stdout",
     "output_type": "stream",
     "text": [
      "03/06/25\n",
      "03/04/25\n"
     ]
    }
   ],
   "source": [
    "from datetime import datetime,timedelta\n",
    "\n",
    "curr_dt = datetime.today()\n",
    "\n",
    "tomrw = (curr_dt + timedelta(days=1))\n",
    "ystrd = (curr_dt - timedelta(days=1))\n",
    "print(tomrw.strftime(\"%x\"))\n",
    "print(ystrd.strftime(\"%x\"))\n",
    "\n"
   ]
  },
  {
   "cell_type": "code",
   "execution_count": 20,
   "metadata": {},
   "outputs": [],
   "source": [
    "fhand = open('mbox.txt')\n",
    "\n",
    "for line in fhand:\n",
    "    if line.startswith(\"start\"):\n",
    "        print(line.strip())\n",
    "for line in fhand:\n",
    "    if '@uct.ac.za' in line:\n",
    "        print(line.strip())\n"
   ]
  },
  {
   "cell_type": "code",
   "execution_count": 6,
   "metadata": {},
   "outputs": [
    {
     "name": "stdout",
     "output_type": "stream",
     "text": [
      "2 hrthehrehr\n",
      "\n",
      "4 lorem ipdum\n",
      "\n",
      "6 aghagavg@uct.ac.zas\n"
     ]
    }
   ],
   "source": [
    "import os\n",
    "fhand = open(\"mbox.txt\")\n",
    "count = 0\n",
    "for line in fhand:\n",
    "    count +=1\n",
    "    if count % 2 == 0:\n",
    "        print(count , line)"
   ]
  }
 ],
 "metadata": {
  "kernelspec": {
   "display_name": "Python 3",
   "language": "python",
   "name": "python3"
  },
  "language_info": {
   "codemirror_mode": {
    "name": "ipython",
    "version": 3
   },
   "file_extension": ".py",
   "mimetype": "text/x-python",
   "name": "python",
   "nbconvert_exporter": "python",
   "pygments_lexer": "ipython3",
   "version": "3.12.2"
  }
 },
 "nbformat": 4,
 "nbformat_minor": 2
}
