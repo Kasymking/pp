{
 "cells": [
  {
   "cell_type": "code",
   "execution_count": null,
   "metadata": {},
   "outputs": [
    {
     "name": "stdout",
     "output_type": "stream",
     "text": [
      "Matched\n",
      "Not matched\n",
      "Not matched\n",
      "Not matched\n"
     ]
    }
   ],
   "source": [
    "import re\n",
    "\n",
    "def match_word(txt):\n",
    "    patterns = \"ab*\"\n",
    "    if re.search(patterns,txt):\n",
    "        return \"Matched\"\n",
    "    else:\n",
    "        return \"Not matched\"\n",
    "print(match_word(\"ab\"))\n",
    "print(match_word(\"not matched\"))\n",
    "print(match_word(\"sdfb\"))\n",
    "print(match_word(\"\"))"
   ]
  },
  {
   "cell_type": "code",
   "execution_count": null,
   "metadata": {},
   "outputs": [
    {
     "name": "stdout",
     "output_type": "stream",
     "text": [
      "Matched\n",
      "Not matched\n",
      "Not matched\n",
      "Matched\n"
     ]
    }
   ],
   "source": [
    "import re\n",
    "\n",
    "def match_word(txt):\n",
    "    patterns = \"ab+\"\n",
    "    if re.search(patterns,txt):\n",
    "        return \"Matched\"\n",
    "    else:\n",
    "        return \"Not matched\"\n",
    "print(match_word(\"ab\"))\n",
    "print(match_word(\"not matched\"))\n",
    "print(match_word(\"sdfb\"))\n",
    "print(match_word(\"\"))"
   ]
  }
 ],
 "metadata": {
  "kernelspec": {
   "display_name": "Python 3",
   "language": "python",
   "name": "python3"
  },
  "language_info": {
   "codemirror_mode": {
    "name": "ipython",
    "version": 3
   },
   "file_extension": ".py",
   "mimetype": "text/x-python",
   "name": "python",
   "nbconvert_exporter": "python",
   "pygments_lexer": "ipython3",
   "version": "3.12.2"
  }
 },
 "nbformat": 4,
 "nbformat_minor": 2
}
