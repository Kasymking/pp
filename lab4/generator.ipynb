{
 "cells": [
  {
   "cell_type": "code",
   "execution_count": 1,
   "metadata": {},
   "outputs": [
    {
     "name": "stdout",
     "output_type": "stream",
     "text": [
      "[0, 1, 4, 9, 16]\n",
      "0 1 "
     ]
    }
   ],
   "source": [
    "# 1 method \n",
    "a = int(input(\"Enter: \"))\n",
    "\n",
    "g = (x**2 for x in range(a))\n",
    "print(list(g))\n",
    "\n",
    "# 2 method\n",
    "def mygenerator(n):\n",
    "    for x in range(n):\n",
    "        yield x**2\n",
    "\n",
    "n = int(input(\"Enter: \"))\n",
    "\n",
    "g2 = mygenerator(n)\n",
    "for i in g2:\n",
    "    print(i, end=\" \")"
   ]
  },
  {
   "cell_type": "code",
   "execution_count": 2,
   "metadata": {},
   "outputs": [
    {
     "name": "stdout",
     "output_type": "stream",
     "text": [
      "0,2\n"
     ]
    }
   ],
   "source": [
    "def mygenerator(n):\n",
    "    for i in range(n):\n",
    "        if i % 2 == 0:\n",
    "            yield i\n",
    "\n",
    "n = int(input(\"Enter: \"))\n",
    "\n",
    "g = mygenerator(n)\n",
    "\n",
    "print(\",\".join(map(str, g)))"
   ]
  },
  {
   "cell_type": "code",
   "execution_count": 6,
   "metadata": {},
   "outputs": [
    {
     "name": "stdout",
     "output_type": "stream",
     "text": [
      "0\n",
      "12\n",
      "24\n"
     ]
    }
   ],
   "source": [
    "def mygenerator(n):\n",
    "    for i in range(n):\n",
    "        if i % 3 == 0 and i % 4 == 0:\n",
    "            yield i\n",
    "        \n",
    "n = int(input(\"Enter: \"))\n",
    "g = mygenerator(n)\n",
    "\n",
    "for x in g:\n",
    "    print(x)"
   ]
  },
  {
   "cell_type": "code",
   "execution_count": 8,
   "metadata": {},
   "outputs": [
    {
     "name": "stdout",
     "output_type": "stream",
     "text": [
      "1\n",
      "4\n",
      "9\n",
      "16\n",
      "25\n",
      "36\n"
     ]
    }
   ],
   "source": [
    "def squares(a,b):\n",
    "    for i in range(a, b + 1):\n",
    "        yield i ** 2\n",
    "\n",
    "a = int(input(\"Enter first value: \"))\n",
    "b = int(input(\"Enter second value: \"))\n",
    "g = squares(a,b)\n",
    "\n",
    "for x in g:\n",
    "    print(x)"
   ]
  },
  {
   "cell_type": "code",
   "execution_count": 9,
   "metadata": {},
   "outputs": [
    {
     "name": "stdout",
     "output_type": "stream",
     "text": [
      "5\n",
      "4\n",
      "3\n",
      "2\n",
      "1\n",
      "0\n"
     ]
    }
   ],
   "source": [
    "def generator(n):\n",
    "    for i in range(n,-1,-1):\n",
    "        yield i\n",
    "\n",
    "n = int(input(\"Enter: \"))\n",
    "g = generator(n)\n",
    "\n",
    "for x in g:\n",
    "    print(x)"
   ]
  }
 ],
 "metadata": {
  "kernelspec": {
   "display_name": "Python 3",
   "language": "python",
   "name": "python3"
  },
  "language_info": {
   "codemirror_mode": {
    "name": "ipython",
    "version": 3
   },
   "file_extension": ".py",
   "mimetype": "text/x-python",
   "name": "python",
   "nbconvert_exporter": "python",
   "pygments_lexer": "ipython3",
   "version": "3.12.2"
  }
 },
 "nbformat": 4,
 "nbformat_minor": 2
}
