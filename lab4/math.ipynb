{
 "cells": [
  {
   "cell_type": "code",
   "execution_count": 1,
   "metadata": {},
   "outputs": [
    {
     "name": "stdout",
     "output_type": "stream",
     "text": [
      "Radian: 0.087266\n"
     ]
    }
   ],
   "source": [
    "import math \n",
    "\n",
    "a = float(input(\"Input degree: \"))\n",
    "\n",
    "print(f\"Radian: {math.radians(a):.6f}\")"
   ]
  },
  {
   "cell_type": "code",
   "execution_count": 2,
   "metadata": {},
   "outputs": [
    {
     "name": "stdout",
     "output_type": "stream",
     "text": [
      "area of trapezoid: 20.0\n"
     ]
    }
   ],
   "source": [
    "import math \n",
    "\n",
    "h = float(input(\"Height: \"))\n",
    "a = float(input(\"first value: \"))\n",
    "b = float(input(\"Third value: \"))\n",
    "\n",
    "print(f\"area of trapezoid: {((a + b) * h) / 2}\")"
   ]
  },
  {
   "cell_type": "code",
   "execution_count": 3,
   "metadata": {},
   "outputs": [
    {
     "name": "stdout",
     "output_type": "stream",
     "text": [
      "The area of the polygon is: 0.000000\n"
     ]
    }
   ],
   "source": [
    "import math\n",
    "\n",
    "n = int(input(\"Input number of sides: \"))\n",
    "s = float(input(\"Input the length of a side: \"))\n",
    "\n",
    "area = (n * s**2) / (4 * math.tan(math.pi / n))\n",
    "print(f\"The area of the polygon is: {area:.6f}\")"
   ]
  },
  {
   "cell_type": "code",
   "execution_count": 4,
   "metadata": {},
   "outputs": [
    {
     "name": "stdout",
     "output_type": "stream",
     "text": [
      "area of parallelogram: 40.0\n"
     ]
    }
   ],
   "source": [
    "import math\n",
    "\n",
    "length = float(input(\"Length of base: \"))\n",
    "height = float(input(\"Height of parallelogram: \"))\n",
    "\n",
    "print(f\"area of parallelogram: {length * height}\")"
   ]
  }
 ],
 "metadata": {
  "kernelspec": {
   "display_name": "Python 3",
   "language": "python",
   "name": "python3"
  },
  "language_info": {
   "codemirror_mode": {
    "name": "ipython",
    "version": 3
   },
   "file_extension": ".py",
   "mimetype": "text/x-python",
   "name": "python",
   "nbconvert_exporter": "python",
   "pygments_lexer": "ipython3",
   "version": "3.12.2"
  }
 },
 "nbformat": 4,
 "nbformat_minor": 2
}
