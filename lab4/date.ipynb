{
 "cells": [
  {
   "cell_type": "code",
   "execution_count": 12,
   "metadata": {},
   "outputs": [
    {
     "name": "stdout",
     "output_type": "stream",
     "text": [
      "Current Date: 2025-02-12\n",
      "Date 5 Days Ago: 2025-02-07\n"
     ]
    }
   ],
   "source": [
    "from datetime import datetime, timedelta\n",
    "\n",
    "# Get the current date\n",
    "current_date = datetime.today()\n",
    "\n",
    "# Subtract 5 days\n",
    "new_date = current_date - timedelta(days=5)\n",
    "\n",
    "# Print the result\n",
    "print(\"Current Date:\", current_date.strftime(\"%Y-%m-%d\"))\n",
    "print(\"Date 5 Days Ago:\", new_date.strftime(\"%Y-%m-%d\"))\n"
   ]
  },
  {
   "cell_type": "code",
   "execution_count": 16,
   "metadata": {},
   "outputs": [
    {
     "name": "stdout",
     "output_type": "stream",
     "text": [
      "Yesterday:  2025-02-11 16:41:40.383071\n",
      "Today:  2025-02-12 16:41:40.383071\n",
      "Tomorrow:  2025-02-13 16:41:40.383071\n"
     ]
    }
   ],
   "source": [
    "from datetime import datetime , timedelta\n",
    "\n",
    "x = datetime.today()\n",
    "x_1 = x - timedelta(days=1)\n",
    "x_2 = x + timedelta(days=1)\n",
    "print(\"Yesterday: \",x_1)\n",
    "print(\"Today: \",x)\n",
    "print(\"Tomorrow: \",x_2)"
   ]
  },
  {
   "cell_type": "code",
   "execution_count": 11,
   "metadata": {},
   "outputs": [
    {
     "name": "stdout",
     "output_type": "stream",
     "text": [
      "02/12/25,16:18:31\n"
     ]
    }
   ],
   "source": [
    "import datetime\n",
    "\n",
    "x = datetime.datetime.now() \n",
    "print(x.strftime(\"%x,%X\"))"
   ]
  },
  {
   "cell_type": "code",
   "execution_count": 2,
   "metadata": {},
   "outputs": [
    {
     "name": "stdout",
     "output_type": "stream",
     "text": [
      "Difference in seconds: 172800.0\n"
     ]
    }
   ],
   "source": [
    "from datetime import datetime,timedelta\n",
    "\n",
    "current_date = datetime.now()\n",
    "\n",
    "tomorrow = (current_date + timedelta(days=1)).timestamp()\n",
    "yesterday = (current_date - timedelta(days=1)).timestamp()\n",
    "\n",
    "print(f\"Difference in seconds: {tomorrow - yesterday}\")"
   ]
  }
 ],
 "metadata": {
  "kernelspec": {
   "display_name": "Python 3",
   "language": "python",
   "name": "python3"
  },
  "language_info": {
   "codemirror_mode": {
    "name": "ipython",
    "version": 3
   },
   "file_extension": ".py",
   "mimetype": "text/x-python",
   "name": "python",
   "nbconvert_exporter": "python",
   "pygments_lexer": "ipython3",
   "version": "3.12.2"
  }
 },
 "nbformat": 4,
 "nbformat_minor": 2
}
