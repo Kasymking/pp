{
 "cells": [
  {
   "cell_type": "code",
   "execution_count": null,
   "metadata": {},
   "outputs": [],
   "source": [
    "import math\n",
    "\n",
    "lst = list(map(int,input(\"Enter: \").split()))\n",
    "result = math.prod(lst)\n",
    "\n",
    "print(result)"
   ]
  },
  {
   "cell_type": "code",
   "execution_count": null,
   "metadata": {},
   "outputs": [],
   "source": [
    "a = input(\"Enter: \")\n",
    "\n",
    "upper_c = len(list(filter(str.isupper, a)))\n",
    "lower_c = len(list(filter(str.islower, a)))\n",
    "\n",
    "print(f\"Uppercase letters: {upper_c}\")\n",
    "print(f\"Lowercase letters: {lower_c}\")"
   ]
  },
  {
   "cell_type": "code",
   "execution_count": null,
   "metadata": {},
   "outputs": [],
   "source": [
    "a = input(\"Enter: \")\n",
    "b = \"\".join(reversed(a))\n",
    "if a == b:\n",
    "    print(\"Yes\")\n",
    "else:\n",
    "    print(\"No\")"
   ]
  },
  {
   "cell_type": "code",
   "execution_count": null,
   "metadata": {},
   "outputs": [
    {
     "data": {
      "text/plain": [
       "Square root of 25 after 6 miliseconds is 5.0\n"
      ]
     },
     "metadata": {},
     "output_type": "display_data"
    }
   ],
   "source": [
    "import math\n",
    "import time\n",
    "\n",
    "first_i = int(input(\"Enter: \").strip())\n",
    "second_i = int(input(\"Enter: \").strip())\n",
    "\n",
    "time.sleep(second_i/1000)\n",
    "\n",
    "\n",
    "print(f\"Square root of {first_i} after {second_i} miliseconds is {math.sqrt(first_i)}\")"
   ]
  },
  {
   "cell_type": "code",
   "execution_count": null,
   "metadata": {},
   "outputs": [],
   "source": [
    "tup = (1,True,\"yes\",2,\"Hello\")\n",
    "tup2 = (0,None,False)\n",
    "\n",
    "print(all(tup))\n",
    "print(all(tup2))"
   ]
  }
 ],
 "metadata": {
  "language_info": {
   "name": "python"
  }
 },
 "nbformat": 4,
 "nbformat_minor": 2
}
