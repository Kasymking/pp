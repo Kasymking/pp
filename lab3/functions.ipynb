{
 "cells": [
  {
   "cell_type": "code",
   "execution_count": 5,
   "metadata": {},
   "outputs": [
    {
     "name": "stdout",
     "output_type": "stream",
     "text": [
      "141.7476155\n"
     ]
    }
   ],
   "source": [
    "def grams_to_ounces():\n",
    "    grams = float(input(\"Enter amount of grams: \"))\n",
    "    ounces = grams * 28.3495231\n",
    "    print(ounces)\n",
    "\n",
    "grams_to_ounces()"
   ]
  },
  {
   "cell_type": "code",
   "execution_count": 7,
   "metadata": {},
   "outputs": [
    {
     "name": "stdout",
     "output_type": "stream",
     "text": [
      "-14.444444444444445\n"
     ]
    }
   ],
   "source": [
    "def converter(f):\n",
    "    global c\n",
    "    c =( 5 / 9) * (f - 32)\n",
    "    print(c)\n",
    "\n",
    "f = float(input(\"Enter a current F: \"))  \n",
    "converter(f) "
   ]
  },
  {
   "cell_type": "code",
   "execution_count": 13,
   "metadata": {},
   "outputs": [
    {
     "name": "stdout",
     "output_type": "stream",
     "text": [
      "rabbits :12.0, chickens : 23.0 \n"
     ]
    }
   ],
   "source": [
    "def solve(numh, numl):\n",
    "    y =(4 * numh - numl) / 2\n",
    "    x = numh - y\n",
    "    print(f\"rabbits :{x}, chickens : {y} \")\n",
    "numh = int(input(\"num of heads: \"))\n",
    "numl = int(input(\"num of legs : \"))\n",
    "x = 0\n",
    "y = 0\n",
    "solve(numh,numl)"
   ]
  },
  {
   "cell_type": "code",
   "execution_count": 3,
   "metadata": {},
   "outputs": [
    {
     "name": "stdout",
     "output_type": "stream",
     "text": [
      "Prime numbers: [2, 3, 5, 7]\n"
     ]
    }
   ],
   "source": [
    "def is_prime(num):\n",
    "    if num < 2:\n",
    "        return False\n",
    "    for i in range(2, int(num ** 0.5) + 1):\n",
    "        if num % i == 0:\n",
    "            return False\n",
    "    return True\n",
    "\n",
    "def filter_prime(n):\n",
    "    return [num for num in n if is_prime(num)]\n",
    "\n",
    "n = list(map(int, input(\"Enter numbers with space: \").split()))\n",
    "prime_numbers = filter_prime(n)\n",
    "print(\"Prime numbers:\", prime_numbers)"
   ]
  },
  {
   "cell_type": "code",
   "execution_count": 5,
   "metadata": {},
   "outputs": [
    {
     "name": "stdout",
     "output_type": "stream",
     "text": [
      "All string permutations:\n",
      "asd\n",
      "ads\n",
      "sad\n",
      "sda\n",
      "das\n",
      "dsa\n"
     ]
    }
   ],
   "source": [
    "from itertools import permutations\n",
    "\n",
    "def string_permutations(s):\n",
    "    perms = [''.join(p) for p in permutations(s)]\n",
    "    return perms\n",
    "\n",
    "user_string = input(\"Pls enter str: \")\n",
    "all_permutations = string_permutations(user_string)\n",
    "print(\"All string permutations:\")\n",
    "for perm in all_permutations:\n",
    "    print(perm)"
   ]
  },
  {
   "cell_type": "code",
   "execution_count": 6,
   "metadata": {},
   "outputs": [
    {
     "name": "stdout",
     "output_type": "stream",
     "text": [
      "Reversed sentence: asdfg\n"
     ]
    }
   ],
   "source": [
    "def reverse_sentence(sentence):\n",
    "    words = sentence.split()\n",
    "    reversed_words = words[::-1]\n",
    "    return ' '.join(reversed_words)\n",
    "\n",
    "user_sentence = input(\"Enter str: \")\n",
    "reversed_sentence = reverse_sentence(user_sentence)\n",
    "print(\"Reversed sentence:\", reversed_sentence)"
   ]
  },
  {
   "cell_type": "code",
   "execution_count": 7,
   "metadata": {},
   "outputs": [
    {
     "name": "stdout",
     "output_type": "stream",
     "text": [
      "True\n",
      "False\n",
      "False\n"
     ]
    }
   ],
   "source": [
    "def has_33(nums):\n",
    "    for i in range(len(nums) - 1):\n",
    "        if nums[i] == 3 and nums[i + 1] == 3:\n",
    "            return True\n",
    "    return False\n",
    "\n",
    "print(has_33([1, 3, 3]))\n",
    "print(has_33([1, 3, 1, 3]))\n",
    "print(has_33([3, 1, 3]))"
   ]
  },
  {
   "cell_type": "code",
   "execution_count": 8,
   "metadata": {},
   "outputs": [
    {
     "name": "stdout",
     "output_type": "stream",
     "text": [
      "True\n",
      "True\n",
      "False\n"
     ]
    }
   ],
   "source": [
    "def spy_game(nums):\n",
    "    code = [0, 0, 7]\n",
    "    for num in nums:\n",
    "        if num == code[0]:\n",
    "            code.pop(0)\n",
    "        if not code:\n",
    "            return True\n",
    "    return False\n",
    "\n",
    "print(spy_game([1, 2, 4, 0, 0, 7, 5]))\n",
    "print(spy_game([1, 0, 2, 4, 0, 5, 7]))\n",
    "print(spy_game([1, 7, 2, 0, 4, 5, 0]))"
   ]
  },
  {
   "cell_type": "code",
   "execution_count": 10,
   "metadata": {},
   "outputs": [
    {
     "name": "stdout",
     "output_type": "stream",
     "text": [
      "Volume of sphere by radius 6.0 = 904.78\n"
     ]
    }
   ],
   "source": [
    "import math\n",
    "\n",
    "def sphere_volume(radius):\n",
    "    return (4/3) * math.pi * radius**3\n",
    "\n",
    "radius = float(input(\"Enter radius: \"))\n",
    "volume = sphere_volume(radius)\n",
    "print(f\"Volume of sphere by radius {radius} = {volume:.2f}\")"
   ]
  },
  {
   "cell_type": "code",
   "execution_count": 11,
   "metadata": {},
   "outputs": [
    {
     "name": "stdout",
     "output_type": "stream",
     "text": [
      "List of unique numbers: [1, 2, 3, 4, 5, 6, 7, 8, 9]\n"
     ]
    }
   ],
   "source": [
    "def unique_elements(lst):\n",
    "    unique_list = []\n",
    "    for item in lst:\n",
    "        if item not in unique_list:\n",
    "            unique_list.append(item)\n",
    "    return unique_list\n",
    "\n",
    "numbers = list(map(int, input(\"Enter numbers with space: \").split()))\n",
    "unique_numbers = unique_elements(numbers)\n",
    "print(\"List of unique numbers:\", unique_numbers)"
   ]
  },
  {
   "cell_type": "code",
   "execution_count": 12,
   "metadata": {},
   "outputs": [
    {
     "name": "stdout",
     "output_type": "stream",
     "text": [
      "Palindrome!\n"
     ]
    }
   ],
   "source": [
    "def is_palindrome(word):\n",
    "    word = word.replace(\" \", \"\").lower()\n",
    "    return word == word[::-1]\n",
    "\n",
    "user_input = input(\"Enter str: \")\n",
    "if is_palindrome(user_input):\n",
    "    print(\"Palindrome!\")\n",
    "else:\n",
    "    print(\"Not palindrome.\")"
   ]
  },
  {
   "cell_type": "code",
   "execution_count": 13,
   "metadata": {},
   "outputs": [
    {
     "name": "stdout",
     "output_type": "stream",
     "text": [
      "Histogram:\n",
      "*\n",
      "**\n",
      "*****\n",
      "****\n",
      "******\n"
     ]
    }
   ],
   "source": [
    "def histogram(numbers):\n",
    "    for num in numbers:\n",
    "        print('*' * num)\n",
    "\n",
    "numbers = list(map(int, input(\"Enter numbers: \").split()))\n",
    "print(\"Histogram:\")\n",
    "histogram(numbers)"
   ]
  },
  {
   "cell_type": "code",
   "execution_count": 14,
   "metadata": {},
   "outputs": [
    {
     "name": "stdout",
     "output_type": "stream",
     "text": [
      "Hello! What is your name?\n",
      "Well, asd,I am thinking of a number between 1 and 20.\n",
      "Take a guess.\n",
      "Your guess is too low.\n",
      "Your guess is too low.\n",
      "Your guess is too high.\n",
      "Your guess is too high.\n",
      "Your guess is too high.\n",
      "Your guess is too high.\n",
      "Your guess is too high.\n",
      "Your guess is too high.\n",
      "Good job, asd! You guessed my number in 9 guesses!\n"
     ]
    }
   ],
   "source": [
    "import random\n",
    "\n",
    "def guess_the_number():\n",
    "    print(\"Hello! What is your name?\")\n",
    "    name = input(\"Enter ur name: \")\n",
    "    \n",
    "    print(f\"Well, {name},I am thinking of a number between 1 and 20.\")\n",
    "    print(\"Take a guess.\")\n",
    "    number = random.randint(1, 20)\n",
    "    attempts = 0\n",
    "\n",
    "    while True:\n",
    "        guess = int(input(\"Ur choice: \"))\n",
    "        attempts += 1\n",
    "        \n",
    "        if guess < number:\n",
    "            print(\"Your guess is too low.\")\n",
    "        elif guess > number:\n",
    "            print(\"Your guess is too high.\")\n",
    "        else:\n",
    "            print(f\"Good job, {name}! You guessed my number in {attempts} guesses!\")\n",
    "            break\n",
    "\n",
    "guess_the_number()"
   ]
  }
 ],
 "metadata": {
  "kernelspec": {
   "display_name": "Python 3",
   "language": "python",
   "name": "python3"
  },
  "language_info": {
   "codemirror_mode": {
    "name": "ipython",
    "version": 3
   },
   "file_extension": ".py",
   "mimetype": "text/x-python",
   "name": "python",
   "nbconvert_exporter": "python",
   "pygments_lexer": "ipython3",
   "version": "3.12.2"
  }
 },
 "nbformat": 4,
 "nbformat_minor": 2
}
